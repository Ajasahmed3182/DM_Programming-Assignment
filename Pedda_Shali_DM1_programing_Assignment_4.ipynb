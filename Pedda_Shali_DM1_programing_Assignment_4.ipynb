{
  "nbformat": 4,
  "nbformat_minor": 0,
  "metadata": {
    "colab": {
      "provenance": [],
      "include_colab_link": true
    },
    "kernelspec": {
      "name": "python3",
      "display_name": "Python 3"
    },
    "language_info": {
      "name": "python"
    }
  },
  "cells": [
    {
      "cell_type": "markdown",
      "metadata": {
        "id": "view-in-github",
        "colab_type": "text"
      },
      "source": [
        "<a href=\"https://colab.research.google.com/github/Ajasahmed3182/DM_Programming-Assignment/blob/main/Pedda_Shali_DM1_programing_Assignment_4.ipynb\" target=\"_parent\"><img src=\"https://colab.research.google.com/assets/colab-badge.svg\" alt=\"Open In Colab\"/></a>"
      ]
    },
    {
      "cell_type": "code",
      "execution_count": 2,
      "metadata": {
        "id": "h3zReDICCKo9"
      },
      "outputs": [],
      "source": [
        "import pandas as pd\n",
        "import cv2\n",
        "import os\n",
        "import numpy as np\n",
        "import warnings\n",
        "from skimage.color import rgb2gray\n",
        "from skimage import io, exposure, filters\n",
        "from sklearn.preprocessing import StandardScaler\n",
        "from sklearn.decomposition import PCA\n",
        "from sklearn.cluster import KMeans, SpectralClustering, BisectingKMeans\n",
        "from sklearn.cluster import DBSCAN, AgglomerativeClustering\n",
        "from sklearn.metrics import fowlkes_mallows_score, silhouette_score\n"
      ]
    },
    {
      "cell_type": "code",
      "source": [
        "warnings.filterwarnings('ignore')"
      ],
      "metadata": {
        "id": "HCZBuOG8Nk9_"
      },
      "execution_count": 3,
      "outputs": []
    },
    {
      "cell_type": "markdown",
      "source": [
        "# 1. Feature Extraction"
      ],
      "metadata": {
        "id": "K1HFdiav-I8K"
      }
    },
    {
      "cell_type": "code",
      "source": [
        "def angle(dx, dy):\n",
        "    \"\"\"Calculate the angles between horizontal and vertical operators.\"\"\"\n",
        "    return np.mod(np.arctan2(dy, dx), np.pi)"
      ],
      "metadata": {
        "id": "OZVmXEmUFyDq"
      },
      "execution_count": 4,
      "outputs": []
    },
    {
      "cell_type": "code",
      "source": [
        "path = \"/content/drive/MyDrive/data_mining/processed\""
      ],
      "metadata": {
        "id": "UpunsVdKCQRv"
      },
      "execution_count": 5,
      "outputs": []
    },
    {
      "cell_type": "code",
      "source": [
        "class_names = ['Borzoi', 'Doberman', 'Komondor', 'Brittany_spaniel']"
      ],
      "metadata": {
        "id": "CXc-7TY4C3lL"
      },
      "execution_count": 6,
      "outputs": []
    },
    {
      "cell_type": "code",
      "source": [
        "df = pd.DataFrame(columns = list(range(0,36))+['class'])\n",
        "class_folders = os.listdir(path)\n",
        "for class_ in class_folders:\n",
        "  class_path = os.path.join(path,class_)\n",
        "  for i,class_label in enumerate(class_names):\n",
        "    if class_label.lower() == class_.split(\"-\")[-1].lower():\n",
        "      class_num = i\n",
        "  for filename in os.listdir(class_path):\n",
        "    img = io.imread(os.path.join(class_path,filename))\n",
        "    gray_sacle = rgb2gray(img)\n",
        "    angle_sobel = angle(filters.sobel_h(gray_sacle),\n",
        "                    filters.sobel_v(gray_sacle))\n",
        "    hist,bins = exposure.histogram(angle_sobel,nbins=36)\n",
        "    df.loc[len(df)] = list(hist)+[class_num]\n"
      ],
      "metadata": {
        "id": "aoowCRE3C4pN"
      },
      "execution_count": 7,
      "outputs": []
    },
    {
      "cell_type": "code",
      "source": [
        "df['class'].unique()"
      ],
      "metadata": {
        "colab": {
          "base_uri": "https://localhost:8080/"
        },
        "id": "XtTuqnt27s8d",
        "outputId": "46f08bae-45d4-49ad-ba21-0af517dcc20f"
      },
      "execution_count": 18,
      "outputs": [
        {
          "output_type": "execute_result",
          "data": {
            "text/plain": [
              "array([1, 0, 2, 3])"
            ]
          },
          "metadata": {},
          "execution_count": 18
        }
      ]
    },
    {
      "cell_type": "code",
      "source": [
        "scaler = StandardScaler()\n",
        "scaler.fit(df[df.columns[:-1]])"
      ],
      "metadata": {
        "colab": {
          "base_uri": "https://localhost:8080/",
          "height": 74
        },
        "id": "vyAu_bJtFsNj",
        "outputId": "bae76c7d-2976-4050-9bd2-21c02b1b3cf8"
      },
      "execution_count": 19,
      "outputs": [
        {
          "output_type": "execute_result",
          "data": {
            "text/plain": [
              "StandardScaler()"
            ],
            "text/html": [
              "<style>#sk-container-id-2 {color: black;background-color: white;}#sk-container-id-2 pre{padding: 0;}#sk-container-id-2 div.sk-toggleable {background-color: white;}#sk-container-id-2 label.sk-toggleable__label {cursor: pointer;display: block;width: 100%;margin-bottom: 0;padding: 0.3em;box-sizing: border-box;text-align: center;}#sk-container-id-2 label.sk-toggleable__label-arrow:before {content: \"▸\";float: left;margin-right: 0.25em;color: #696969;}#sk-container-id-2 label.sk-toggleable__label-arrow:hover:before {color: black;}#sk-container-id-2 div.sk-estimator:hover label.sk-toggleable__label-arrow:before {color: black;}#sk-container-id-2 div.sk-toggleable__content {max-height: 0;max-width: 0;overflow: hidden;text-align: left;background-color: #f0f8ff;}#sk-container-id-2 div.sk-toggleable__content pre {margin: 0.2em;color: black;border-radius: 0.25em;background-color: #f0f8ff;}#sk-container-id-2 input.sk-toggleable__control:checked~div.sk-toggleable__content {max-height: 200px;max-width: 100%;overflow: auto;}#sk-container-id-2 input.sk-toggleable__control:checked~label.sk-toggleable__label-arrow:before {content: \"▾\";}#sk-container-id-2 div.sk-estimator input.sk-toggleable__control:checked~label.sk-toggleable__label {background-color: #d4ebff;}#sk-container-id-2 div.sk-label input.sk-toggleable__control:checked~label.sk-toggleable__label {background-color: #d4ebff;}#sk-container-id-2 input.sk-hidden--visually {border: 0;clip: rect(1px 1px 1px 1px);clip: rect(1px, 1px, 1px, 1px);height: 1px;margin: -1px;overflow: hidden;padding: 0;position: absolute;width: 1px;}#sk-container-id-2 div.sk-estimator {font-family: monospace;background-color: #f0f8ff;border: 1px dotted black;border-radius: 0.25em;box-sizing: border-box;margin-bottom: 0.5em;}#sk-container-id-2 div.sk-estimator:hover {background-color: #d4ebff;}#sk-container-id-2 div.sk-parallel-item::after {content: \"\";width: 100%;border-bottom: 1px solid gray;flex-grow: 1;}#sk-container-id-2 div.sk-label:hover label.sk-toggleable__label {background-color: #d4ebff;}#sk-container-id-2 div.sk-serial::before {content: \"\";position: absolute;border-left: 1px solid gray;box-sizing: border-box;top: 0;bottom: 0;left: 50%;z-index: 0;}#sk-container-id-2 div.sk-serial {display: flex;flex-direction: column;align-items: center;background-color: white;padding-right: 0.2em;padding-left: 0.2em;position: relative;}#sk-container-id-2 div.sk-item {position: relative;z-index: 1;}#sk-container-id-2 div.sk-parallel {display: flex;align-items: stretch;justify-content: center;background-color: white;position: relative;}#sk-container-id-2 div.sk-item::before, #sk-container-id-2 div.sk-parallel-item::before {content: \"\";position: absolute;border-left: 1px solid gray;box-sizing: border-box;top: 0;bottom: 0;left: 50%;z-index: -1;}#sk-container-id-2 div.sk-parallel-item {display: flex;flex-direction: column;z-index: 1;position: relative;background-color: white;}#sk-container-id-2 div.sk-parallel-item:first-child::after {align-self: flex-end;width: 50%;}#sk-container-id-2 div.sk-parallel-item:last-child::after {align-self: flex-start;width: 50%;}#sk-container-id-2 div.sk-parallel-item:only-child::after {width: 0;}#sk-container-id-2 div.sk-dashed-wrapped {border: 1px dashed gray;margin: 0 0.4em 0.5em 0.4em;box-sizing: border-box;padding-bottom: 0.4em;background-color: white;}#sk-container-id-2 div.sk-label label {font-family: monospace;font-weight: bold;display: inline-block;line-height: 1.2em;}#sk-container-id-2 div.sk-label-container {text-align: center;}#sk-container-id-2 div.sk-container {/* jupyter's `normalize.less` sets `[hidden] { display: none; }` but bootstrap.min.css set `[hidden] { display: none !important; }` so we also need the `!important` here to be able to override the default hidden behavior on the sphinx rendered scikit-learn.org. See: https://github.com/scikit-learn/scikit-learn/issues/21755 */display: inline-block !important;position: relative;}#sk-container-id-2 div.sk-text-repr-fallback {display: none;}</style><div id=\"sk-container-id-2\" class=\"sk-top-container\"><div class=\"sk-text-repr-fallback\"><pre>StandardScaler()</pre><b>In a Jupyter environment, please rerun this cell to show the HTML representation or trust the notebook. <br />On GitHub, the HTML representation is unable to render, please try loading this page with nbviewer.org.</b></div><div class=\"sk-container\" hidden><div class=\"sk-item\"><div class=\"sk-estimator sk-toggleable\"><input class=\"sk-toggleable__control sk-hidden--visually\" id=\"sk-estimator-id-2\" type=\"checkbox\" checked><label for=\"sk-estimator-id-2\" class=\"sk-toggleable__label sk-toggleable__label-arrow\">StandardScaler</label><div class=\"sk-toggleable__content\"><pre>StandardScaler()</pre></div></div></div></div></div>"
            ]
          },
          "metadata": {},
          "execution_count": 19
        }
      ]
    },
    {
      "cell_type": "code",
      "source": [
        "data = df[df.columns[:-1]]"
      ],
      "metadata": {
        "id": "1yYUZJ9yL2yA"
      },
      "execution_count": 20,
      "outputs": []
    },
    {
      "cell_type": "code",
      "source": [
        "orginal_labels = np.array(df[df.columns[-1]])"
      ],
      "metadata": {
        "id": "3tgOkF9PPU-y"
      },
      "execution_count": 21,
      "outputs": []
    },
    {
      "cell_type": "code",
      "source": [
        "scalled_data = scaler.transform(data)"
      ],
      "metadata": {
        "id": "Io8VZhJELtj7"
      },
      "execution_count": 22,
      "outputs": []
    },
    {
      "cell_type": "markdown",
      "source": [
        "# 2. Dimension Reduction"
      ],
      "metadata": {
        "id": "bh3aFlKf-Qba"
      }
    },
    {
      "cell_type": "code",
      "source": [
        "pca = PCA(n_components=2)\n",
        "\n",
        "transformed_data = pca.fit_transform(scalled_data)"
      ],
      "metadata": {
        "id": "WRgIbliFLzGy"
      },
      "execution_count": 43,
      "outputs": []
    },
    {
      "cell_type": "code",
      "source": [
        "transformed_data"
      ],
      "metadata": {
        "colab": {
          "base_uri": "https://localhost:8080/"
        },
        "id": "g3oSHel58_E-",
        "outputId": "6f4601e7-c88b-4d3b-8d8d-a821bc4f70a1"
      },
      "execution_count": 44,
      "outputs": [
        {
          "output_type": "execute_result",
          "data": {
            "text/plain": [
              "array([[-3.69815265, -6.76182877],\n",
              "       [ 0.31867313, -4.80868179],\n",
              "       [-2.91444473, -2.62878628],\n",
              "       ...,\n",
              "       [-4.2474439 ,  0.51654235],\n",
              "       [-2.82551858, -2.1491763 ],\n",
              "       [-3.64176208,  0.9916052 ]])"
            ]
          },
          "metadata": {},
          "execution_count": 44
        }
      ]
    },
    {
      "cell_type": "markdown",
      "source": [
        "# 3. Clustering Algorithm"
      ],
      "metadata": {
        "id": "Qu7zhzjm-qg3"
      }
    },
    {
      "cell_type": "code",
      "source": [
        "# K-means clustering with init='random'\n",
        "kmeans_random = KMeans(n_clusters=4, init='random', random_state=6)\n",
        "kmeans_random.fit(transformed_data)\n",
        "kmeans_random_labels = kmeans_random.labels_\n",
        "\n",
        "# K-means clustering with init='k-means++'\n",
        "kmeans_kmeans_pp = KMeans(n_clusters=4, init='k-means++', random_state=6)\n",
        "kmeans_kmeans_pp.fit(transformed_data)\n",
        "kmeans_kmeans_pp_labels = kmeans_kmeans_pp.labels_\n",
        "\n",
        "# Bisecting K-means clustering with init='random'\n",
        "bisecting_kmeans_random = BisectingKMeans(n_clusters=4, init='random', random_state=6)\n",
        "bisecting_kmeans_random.fit(transformed_data)\n",
        "bisecting_kmeans_random_labels = bisecting_kmeans_random.labels_\n",
        "\n",
        "# Spectral clustering with default parameters\n",
        "spectral_clustering = SpectralClustering(n_clusters=4, random_state=6)\n",
        "spectral_clustering.fit(transformed_data)\n",
        "spectral_clustering_labels = spectral_clustering.labels_"
      ],
      "metadata": {
        "id": "LODQJk9hMcZt"
      },
      "execution_count": 45,
      "outputs": []
    },
    {
      "cell_type": "code",
      "source": [
        "# DBSCAN\n",
        "dbscan = DBSCAN(eps=0.5, min_samples=2)\n",
        "dbscan.fit(data)\n",
        "dbscan_labels = dbscan.labels_\n",
        "\n",
        "# Agglomerative clustering with different linkage methods\n",
        "agglomerative_single = AgglomerativeClustering(n_clusters=4, linkage='single')\n",
        "agglomerative_single.fit(data)\n",
        "agglomerative_single_labels = agglomerative_single.labels_\n",
        "\n",
        "agglomerative_complete = AgglomerativeClustering(n_clusters=4, linkage='complete')\n",
        "agglomerative_complete.fit(data)\n",
        "agglomerative_complete_labels = agglomerative_complete.labels_\n",
        "\n",
        "agglomerative_average = AgglomerativeClustering(n_clusters=4, linkage='average')\n",
        "agglomerative_average.fit(data)\n",
        "agglomerative_average_labels = agglomerative_average.labels_\n",
        "\n",
        "agglomerative_ward = AgglomerativeClustering(n_clusters=4, linkage='ward')\n",
        "agglomerative_ward.fit(data)\n",
        "agglomerative_ward_labels = agglomerative_ward.labels_"
      ],
      "metadata": {
        "id": "WJ-4GrHkNQ06"
      },
      "execution_count": 46,
      "outputs": []
    },
    {
      "cell_type": "markdown",
      "source": [
        "# 4. Clustering Evaluations"
      ],
      "metadata": {
        "id": "wWu5jwV7-xH2"
      }
    },
    {
      "cell_type": "code",
      "source": [
        "\n",
        "# Calculate Fowlkes-Mallows index\n",
        "fowlkes_mallows_scores = {\n",
        "    'K-means (Random)': fowlkes_mallows_score(orginal_labels, kmeans_random_labels),\n",
        "    'K-means (k-means++)': fowlkes_mallows_score(orginal_labels, kmeans_kmeans_pp_labels),\n",
        "    'Bisecting K-means': fowlkes_mallows_score(orginal_labels, bisecting_kmeans_random_labels),\n",
        "    'Spectral Clustering': fowlkes_mallows_score(orginal_labels, spectral_clustering_labels),\n",
        "    'DBSCAN': fowlkes_mallows_score(orginal_labels, dbscan_labels),\n",
        "    'Agglomerative (Single link)': fowlkes_mallows_score(orginal_labels, agglomerative_single_labels),\n",
        "    'Agglomerative (Complete link)': fowlkes_mallows_score(orginal_labels, agglomerative_complete_labels),\n",
        "    'Agglomerative (Group Average)': fowlkes_mallows_score(orginal_labels, agglomerative_average_labels),\n",
        "    'Agglomerative (Ward)': fowlkes_mallows_score(orginal_labels, agglomerative_ward_labels)\n",
        "}\n"
      ],
      "metadata": {
        "id": "rf6rSgIdOv27"
      },
      "execution_count": 47,
      "outputs": []
    },
    {
      "cell_type": "code",
      "source": [
        "# Calculate Silhouette Coefficient\n",
        "silhouette_scores = {\n",
        "    'K-means (Random)': silhouette_score(transformed_data, kmeans_random_labels),\n",
        "    'K-means (k-means++)': silhouette_score(transformed_data, kmeans_kmeans_pp_labels),\n",
        "    'Bisecting K-means': silhouette_score(transformed_data, bisecting_kmeans_random_labels),\n",
        "    'Spectral Clustering': silhouette_score(transformed_data, spectral_clustering_labels),\n",
        "    'DBSCAN': silhouette_score(transformed_data, dbscan_labels),\n",
        "    'Agglomerative (Single link)': silhouette_score(transformed_data, agglomerative_single_labels),\n",
        "    'Agglomerative (Complete link)': silhouette_score(transformed_data, agglomerative_complete_labels),\n",
        "    'Agglomerative (Group Average)': silhouette_score(transformed_data, agglomerative_average_labels),\n",
        "    'Agglomerative (Ward)': silhouette_score(transformed_data, agglomerative_ward_labels)\n",
        "}"
      ],
      "metadata": {
        "id": "xand5YTEPsGc"
      },
      "execution_count": 48,
      "outputs": []
    },
    {
      "cell_type": "code",
      "source": [
        "# Rank methods based on Fowlkes-Mallows index\n",
        "ranked_methods_fm = sorted(fowlkes_mallows_scores.items(), key=lambda x: x[1], reverse=True)\n",
        "print(\"Ranking based on Fowlkes-Mallows index:\")\n",
        "for method, score in ranked_methods_fm:\n",
        "    print(f\"{method}: {score}\")"
      ],
      "metadata": {
        "colab": {
          "base_uri": "https://localhost:8080/"
        },
        "id": "hSqeecjA8IiX",
        "outputId": "dcf6c29b-699d-4cdd-bdf3-fef6fb47b42b"
      },
      "execution_count": 50,
      "outputs": [
        {
          "output_type": "stream",
          "name": "stdout",
          "text": [
            "Ranking based on Fowlkes-Mallows index:\n",
            "DBSCAN: 0.49139908796289333\n",
            "Agglomerative (Single link): 0.4897299424611838\n",
            "Agglomerative (Group Average): 0.3790557573595213\n",
            "Agglomerative (Complete link): 0.3660507627491783\n",
            "Spectral Clustering: 0.35303987669585707\n",
            "Agglomerative (Ward): 0.33343061645559113\n",
            "Bisecting K-means: 0.30280699891005425\n",
            "K-means (Random): 0.28044750150233055\n",
            "K-means (k-means++): 0.28044750150233055\n"
          ]
        }
      ]
    },
    {
      "cell_type": "code",
      "source": [
        "# Rank methods based on Silhouette Coefficient\n",
        "ranked_methods_silhouette = sorted(silhouette_scores.items(), key=lambda x: x[1], reverse=True)\n",
        "print(\"\\nRanking based on Silhouette Coefficient:\")\n",
        "for method, score in ranked_methods_silhouette:\n",
        "    print(f\"{method}: {score}\")"
      ],
      "metadata": {
        "colab": {
          "base_uri": "https://localhost:8080/"
        },
        "id": "YgzUr8oY9yNh",
        "outputId": "56b198d8-5e0e-47f4-b2a1-87ed6511b6c0"
      },
      "execution_count": 51,
      "outputs": [
        {
          "output_type": "stream",
          "name": "stdout",
          "text": [
            "\n",
            "Ranking based on Silhouette Coefficient:\n",
            "DBSCAN: 0.48911304019625973\n",
            "K-means (Random): 0.4466103585883277\n",
            "K-means (k-means++): 0.4466103585883277\n",
            "Bisecting K-means: 0.406502928455974\n",
            "Agglomerative (Complete link): 0.4039297963034564\n",
            "Agglomerative (Group Average): 0.40001651665026106\n",
            "Spectral Clustering: 0.393308621985176\n",
            "Agglomerative (Ward): 0.3251456959984067\n",
            "Agglomerative (Single link): 0.1853364568067928\n"
          ]
        }
      ]
    },
    {
      "cell_type": "code",
      "source": [],
      "metadata": {
        "id": "RPS3Tf1791OY"
      },
      "execution_count": null,
      "outputs": []
    }
  ]
}